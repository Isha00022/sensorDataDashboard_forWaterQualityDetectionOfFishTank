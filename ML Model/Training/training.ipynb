{
 "cells": [
  {
   "cell_type": "code",
   "execution_count": 27,
   "metadata": {},
   "outputs": [],
   "source": [
    "import pandas as pd\n",
    "import numpy as np\n",
    "import tensorflow as tf\n",
    "from sklearn.model_selection import train_test_split\n",
    "import matplotlib.pyplot as plt\n",
    "import seaborn as sns"
   ]
  },
  {
   "cell_type": "code",
   "execution_count": 32,
   "metadata": {},
   "outputs": [],
   "source": [
    "df = pd.read_csv(\"Balanced_data.csv\")"
   ]
  },
  {
   "cell_type": "code",
   "execution_count": 29,
   "metadata": {},
   "outputs": [
    {
     "data": {
      "text/html": [
       "<div>\n",
       "<style scoped>\n",
       "    .dataframe tbody tr th:only-of-type {\n",
       "        vertical-align: middle;\n",
       "    }\n",
       "\n",
       "    .dataframe tbody tr th {\n",
       "        vertical-align: top;\n",
       "    }\n",
       "\n",
       "    .dataframe thead th {\n",
       "        text-align: right;\n",
       "    }\n",
       "</style>\n",
       "<table border=\"1\" class=\"dataframe\">\n",
       "  <thead>\n",
       "    <tr style=\"text-align: right;\">\n",
       "      <th></th>\n",
       "      <th>Temperature(C)</th>\n",
       "      <th>Turbidity(NTU)</th>\n",
       "      <th>Dissolved Oxygen(g/ml)</th>\n",
       "      <th>PH</th>\n",
       "      <th>Ammonia(g/ml)</th>\n",
       "      <th>Nitrate(g/ml)</th>\n",
       "      <th>Final Growth</th>\n",
       "    </tr>\n",
       "  </thead>\n",
       "  <tbody>\n",
       "    <tr>\n",
       "      <th>0</th>\n",
       "      <td>23.75</td>\n",
       "      <td>80</td>\n",
       "      <td>27.736</td>\n",
       "      <td>7.04911</td>\n",
       "      <td>5.15546</td>\n",
       "      <td>114</td>\n",
       "      <td>Less and Slow Growth</td>\n",
       "    </tr>\n",
       "    <tr>\n",
       "      <th>1</th>\n",
       "      <td>23.75</td>\n",
       "      <td>80</td>\n",
       "      <td>4.195</td>\n",
       "      <td>7.09450</td>\n",
       "      <td>4.53072</td>\n",
       "      <td>114</td>\n",
       "      <td>Less and Slow Growth</td>\n",
       "    </tr>\n",
       "    <tr>\n",
       "      <th>2</th>\n",
       "      <td>23.75</td>\n",
       "      <td>80</td>\n",
       "      <td>10.310</td>\n",
       "      <td>7.07635</td>\n",
       "      <td>5.21473</td>\n",
       "      <td>113</td>\n",
       "      <td>Less and Slow Growth</td>\n",
       "    </tr>\n",
       "    <tr>\n",
       "      <th>3</th>\n",
       "      <td>23.75</td>\n",
       "      <td>81</td>\n",
       "      <td>1.196</td>\n",
       "      <td>7.07181</td>\n",
       "      <td>5.41747</td>\n",
       "      <td>100</td>\n",
       "      <td>Less and Slow Growth</td>\n",
       "    </tr>\n",
       "    <tr>\n",
       "      <th>4</th>\n",
       "      <td>23.75</td>\n",
       "      <td>80</td>\n",
       "      <td>2.338</td>\n",
       "      <td>7.08996</td>\n",
       "      <td>5.45899</td>\n",
       "      <td>112</td>\n",
       "      <td>Less and Slow Growth</td>\n",
       "    </tr>\n",
       "  </tbody>\n",
       "</table>\n",
       "</div>"
      ],
      "text/plain": [
       "   Temperature(C)  Turbidity(NTU)  Dissolved Oxygen(g/ml)       PH  \\\n",
       "0           23.75              80                  27.736  7.04911   \n",
       "1           23.75              80                   4.195  7.09450   \n",
       "2           23.75              80                  10.310  7.07635   \n",
       "3           23.75              81                   1.196  7.07181   \n",
       "4           23.75              80                   2.338  7.08996   \n",
       "\n",
       "   Ammonia(g/ml)  Nitrate(g/ml)          Final Growth  \n",
       "0        5.15546            114  Less and Slow Growth  \n",
       "1        4.53072            114  Less and Slow Growth  \n",
       "2        5.21473            113  Less and Slow Growth  \n",
       "3        5.41747            100  Less and Slow Growth  \n",
       "4        5.45899            112  Less and Slow Growth  "
      ]
     },
     "execution_count": 29,
     "metadata": {},
     "output_type": "execute_result"
    }
   ],
   "source": [
    "df.head()"
   ]
  },
  {
   "cell_type": "code",
   "execution_count": 30,
   "metadata": {},
   "outputs": [],
   "source": [
    "from sklearn import preprocessing\n",
    "  \n"
   ]
  },
  {
   "cell_type": "code",
   "execution_count": 33,
   "metadata": {},
   "outputs": [
    {
     "data": {
      "text/plain": [
       "array([1, 2, 0])"
      ]
     },
     "execution_count": 33,
     "metadata": {},
     "output_type": "execute_result"
    }
   ],
   "source": [
    "# label_encoder object knows how to understand word labels.\n",
    "label_encoder = preprocessing.LabelEncoder()\n",
    "  \n",
    "# Encode labels in column 'species'.\n",
    "df['Final Growth label']= label_encoder.fit_transform(df['Final Growth'])\n",
    "  \n",
    "df['Final Growth label'].unique()"
   ]
  },
  {
   "cell_type": "code",
   "execution_count": 34,
   "metadata": {},
   "outputs": [
    {
     "data": {
      "text/html": [
       "<div>\n",
       "<style scoped>\n",
       "    .dataframe tbody tr th:only-of-type {\n",
       "        vertical-align: middle;\n",
       "    }\n",
       "\n",
       "    .dataframe tbody tr th {\n",
       "        vertical-align: top;\n",
       "    }\n",
       "\n",
       "    .dataframe thead th {\n",
       "        text-align: right;\n",
       "    }\n",
       "</style>\n",
       "<table border=\"1\" class=\"dataframe\">\n",
       "  <thead>\n",
       "    <tr style=\"text-align: right;\">\n",
       "      <th></th>\n",
       "      <th>Temperature(C)</th>\n",
       "      <th>Turbidity(NTU)</th>\n",
       "      <th>Dissolved Oxygen(g/ml)</th>\n",
       "      <th>PH</th>\n",
       "      <th>Ammonia(g/ml)</th>\n",
       "      <th>Nitrate(g/ml)</th>\n",
       "      <th>Final Growth</th>\n",
       "      <th>Final Growth label</th>\n",
       "    </tr>\n",
       "  </thead>\n",
       "  <tbody>\n",
       "    <tr>\n",
       "      <th>0</th>\n",
       "      <td>23.75</td>\n",
       "      <td>80</td>\n",
       "      <td>27.736</td>\n",
       "      <td>7.04911</td>\n",
       "      <td>5.15546</td>\n",
       "      <td>114</td>\n",
       "      <td>Less and Slow Growth</td>\n",
       "      <td>1</td>\n",
       "    </tr>\n",
       "    <tr>\n",
       "      <th>1</th>\n",
       "      <td>23.75</td>\n",
       "      <td>80</td>\n",
       "      <td>4.195</td>\n",
       "      <td>7.09450</td>\n",
       "      <td>4.53072</td>\n",
       "      <td>114</td>\n",
       "      <td>Less and Slow Growth</td>\n",
       "      <td>1</td>\n",
       "    </tr>\n",
       "    <tr>\n",
       "      <th>2</th>\n",
       "      <td>23.75</td>\n",
       "      <td>80</td>\n",
       "      <td>10.310</td>\n",
       "      <td>7.07635</td>\n",
       "      <td>5.21473</td>\n",
       "      <td>113</td>\n",
       "      <td>Less and Slow Growth</td>\n",
       "      <td>1</td>\n",
       "    </tr>\n",
       "    <tr>\n",
       "      <th>3</th>\n",
       "      <td>23.75</td>\n",
       "      <td>81</td>\n",
       "      <td>1.196</td>\n",
       "      <td>7.07181</td>\n",
       "      <td>5.41747</td>\n",
       "      <td>100</td>\n",
       "      <td>Less and Slow Growth</td>\n",
       "      <td>1</td>\n",
       "    </tr>\n",
       "    <tr>\n",
       "      <th>4</th>\n",
       "      <td>23.75</td>\n",
       "      <td>80</td>\n",
       "      <td>2.338</td>\n",
       "      <td>7.08996</td>\n",
       "      <td>5.45899</td>\n",
       "      <td>112</td>\n",
       "      <td>Less and Slow Growth</td>\n",
       "      <td>1</td>\n",
       "    </tr>\n",
       "  </tbody>\n",
       "</table>\n",
       "</div>"
      ],
      "text/plain": [
       "   Temperature(C)  Turbidity(NTU)  Dissolved Oxygen(g/ml)       PH  \\\n",
       "0           23.75              80                  27.736  7.04911   \n",
       "1           23.75              80                   4.195  7.09450   \n",
       "2           23.75              80                  10.310  7.07635   \n",
       "3           23.75              81                   1.196  7.07181   \n",
       "4           23.75              80                   2.338  7.08996   \n",
       "\n",
       "   Ammonia(g/ml)  Nitrate(g/ml)          Final Growth  Final Growth label  \n",
       "0        5.15546            114  Less and Slow Growth                   1  \n",
       "1        4.53072            114  Less and Slow Growth                   1  \n",
       "2        5.21473            113  Less and Slow Growth                   1  \n",
       "3        5.41747            100  Less and Slow Growth                   1  \n",
       "4        5.45899            112  Less and Slow Growth                   1  "
      ]
     },
     "execution_count": 34,
     "metadata": {},
     "output_type": "execute_result"
    }
   ],
   "source": [
    "df.head()"
   ]
  },
  {
   "cell_type": "code",
   "execution_count": 47,
   "metadata": {},
   "outputs": [
    {
     "data": {
      "text/plain": [
       "Temperature(C)              0\n",
       "Turbidity(NTU)              0\n",
       "Dissolved Oxygen(g/ml)      0\n",
       "PH                          0\n",
       "Ammonia(g/ml)             107\n",
       "Nitrate(g/ml)               0\n",
       "Final Growth                0\n",
       "Final Growth label          0\n",
       "dtype: int64"
      ]
     },
     "execution_count": 47,
     "metadata": {},
     "output_type": "execute_result"
    }
   ],
   "source": [
    "df.isna().sum()"
   ]
  },
  {
   "cell_type": "code",
   "execution_count": 48,
   "metadata": {},
   "outputs": [],
   "source": [
    "df.dropna(inplace=True)"
   ]
  },
  {
   "cell_type": "code",
   "execution_count": 59,
   "metadata": {},
   "outputs": [],
   "source": [
    "df.replace([np.inf, -np.inf], np.nan, inplace=True)"
   ]
  },
  {
   "cell_type": "code",
   "execution_count": 60,
   "metadata": {},
   "outputs": [],
   "source": [
    "df.dropna(inplace=True)"
   ]
  },
  {
   "cell_type": "code",
   "execution_count": 61,
   "metadata": {},
   "outputs": [
    {
     "data": {
      "text/plain": [
       "Temperature(C)            126448\n",
       "Turbidity(NTU)            126448\n",
       "Dissolved Oxygen(g/ml)    126448\n",
       "PH                        126448\n",
       "Ammonia(g/ml)             126448\n",
       "Nitrate(g/ml)             126448\n",
       "Final Growth              126448\n",
       "Final Growth label        126448\n",
       "dtype: int64"
      ]
     },
     "execution_count": 61,
     "metadata": {},
     "output_type": "execute_result"
    }
   ],
   "source": [
    "df[df[\"Final Growth\"] == \"Less and Slow Growth\"].count()"
   ]
  },
  {
   "cell_type": "code",
   "execution_count": 62,
   "metadata": {},
   "outputs": [
    {
     "data": {
      "text/plain": [
       "Temperature(C)            34576\n",
       "Turbidity(NTU)            34576\n",
       "Dissolved Oxygen(g/ml)    34576\n",
       "PH                        34576\n",
       "Ammonia(g/ml)             34576\n",
       "Nitrate(g/ml)             34576\n",
       "Final Growth              34576\n",
       "Final Growth label        34576\n",
       "dtype: int64"
      ]
     },
     "execution_count": 62,
     "metadata": {},
     "output_type": "execute_result"
    }
   ],
   "source": [
    "df[df[\"Final Growth\"] == \"Less but Fast Growth\"].count()"
   ]
  },
  {
   "cell_type": "code",
   "execution_count": 63,
   "metadata": {},
   "outputs": [
    {
     "data": {
      "text/plain": [
       "Temperature(C)            134053\n",
       "Turbidity(NTU)            134053\n",
       "Dissolved Oxygen(g/ml)    134053\n",
       "PH                        134053\n",
       "Ammonia(g/ml)             134053\n",
       "Nitrate(g/ml)             134053\n",
       "Final Growth              134053\n",
       "Final Growth label        134053\n",
       "dtype: int64"
      ]
     },
     "execution_count": 63,
     "metadata": {},
     "output_type": "execute_result"
    }
   ],
   "source": [
    "df[df[\"Final Growth\"] == \"Good and Fast Growth\"].count()"
   ]
  },
  {
   "cell_type": "code",
   "execution_count": 64,
   "metadata": {},
   "outputs": [
    {
     "data": {
      "text/plain": [
       "Temperature(C)            34576\n",
       "Turbidity(NTU)            34576\n",
       "Dissolved Oxygen(g/ml)    34576\n",
       "PH                        34576\n",
       "Ammonia(g/ml)             34576\n",
       "Nitrate(g/ml)             34576\n",
       "Final Growth              34576\n",
       "Final Growth label        34576\n",
       "dtype: int64"
      ]
     },
     "execution_count": 64,
     "metadata": {},
     "output_type": "execute_result"
    }
   ],
   "source": [
    "df[df[\"Final Growth label\"]==2].count()"
   ]
  },
  {
   "attachments": {},
   "cell_type": "markdown",
   "metadata": {},
   "source": [
    "Label 1 - Less and Slow Growth <br>\n",
    "Label 2 - Less but Fast Growth <br>\n",
    "Label 3 - Good and Fast Growth"
   ]
  },
  {
   "cell_type": "code",
   "execution_count": 65,
   "metadata": {},
   "outputs": [],
   "source": [
    "X = df.drop([\"Final Growth\", \"Final Growth label\"], axis = 1)"
   ]
  },
  {
   "cell_type": "code",
   "execution_count": 66,
   "metadata": {},
   "outputs": [],
   "source": [
    "y = df[\"Final Growth label\"]"
   ]
  },
  {
   "cell_type": "code",
   "execution_count": 67,
   "metadata": {},
   "outputs": [
    {
     "data": {
      "text/html": [
       "<div>\n",
       "<style scoped>\n",
       "    .dataframe tbody tr th:only-of-type {\n",
       "        vertical-align: middle;\n",
       "    }\n",
       "\n",
       "    .dataframe tbody tr th {\n",
       "        vertical-align: top;\n",
       "    }\n",
       "\n",
       "    .dataframe thead th {\n",
       "        text-align: right;\n",
       "    }\n",
       "</style>\n",
       "<table border=\"1\" class=\"dataframe\">\n",
       "  <thead>\n",
       "    <tr style=\"text-align: right;\">\n",
       "      <th></th>\n",
       "      <th>Temperature(C)</th>\n",
       "      <th>Turbidity(NTU)</th>\n",
       "      <th>Dissolved Oxygen(g/ml)</th>\n",
       "      <th>PH</th>\n",
       "      <th>Ammonia(g/ml)</th>\n",
       "      <th>Nitrate(g/ml)</th>\n",
       "    </tr>\n",
       "  </thead>\n",
       "  <tbody>\n",
       "    <tr>\n",
       "      <th>0</th>\n",
       "      <td>23.75</td>\n",
       "      <td>80</td>\n",
       "      <td>27.74</td>\n",
       "      <td>7.05</td>\n",
       "      <td>5.16</td>\n",
       "      <td>114</td>\n",
       "    </tr>\n",
       "    <tr>\n",
       "      <th>1</th>\n",
       "      <td>23.75</td>\n",
       "      <td>80</td>\n",
       "      <td>4.20</td>\n",
       "      <td>7.09</td>\n",
       "      <td>4.53</td>\n",
       "      <td>114</td>\n",
       "    </tr>\n",
       "    <tr>\n",
       "      <th>2</th>\n",
       "      <td>23.75</td>\n",
       "      <td>80</td>\n",
       "      <td>10.31</td>\n",
       "      <td>7.08</td>\n",
       "      <td>5.21</td>\n",
       "      <td>113</td>\n",
       "    </tr>\n",
       "    <tr>\n",
       "      <th>3</th>\n",
       "      <td>23.75</td>\n",
       "      <td>81</td>\n",
       "      <td>1.20</td>\n",
       "      <td>7.07</td>\n",
       "      <td>5.42</td>\n",
       "      <td>100</td>\n",
       "    </tr>\n",
       "    <tr>\n",
       "      <th>4</th>\n",
       "      <td>23.75</td>\n",
       "      <td>80</td>\n",
       "      <td>2.34</td>\n",
       "      <td>7.09</td>\n",
       "      <td>5.46</td>\n",
       "      <td>112</td>\n",
       "    </tr>\n",
       "    <tr>\n",
       "      <th>...</th>\n",
       "      <td>...</td>\n",
       "      <td>...</td>\n",
       "      <td>...</td>\n",
       "      <td>...</td>\n",
       "      <td>...</td>\n",
       "      <td>...</td>\n",
       "    </tr>\n",
       "    <tr>\n",
       "      <th>303227</th>\n",
       "      <td>23.94</td>\n",
       "      <td>100</td>\n",
       "      <td>5.08</td>\n",
       "      <td>7.26</td>\n",
       "      <td>0.00</td>\n",
       "      <td>490</td>\n",
       "    </tr>\n",
       "    <tr>\n",
       "      <th>303228</th>\n",
       "      <td>25.38</td>\n",
       "      <td>100</td>\n",
       "      <td>5.08</td>\n",
       "      <td>2.01</td>\n",
       "      <td>0.00</td>\n",
       "      <td>3870</td>\n",
       "    </tr>\n",
       "    <tr>\n",
       "      <th>303229</th>\n",
       "      <td>24.38</td>\n",
       "      <td>100</td>\n",
       "      <td>3.13</td>\n",
       "      <td>2.71</td>\n",
       "      <td>0.00</td>\n",
       "      <td>1563</td>\n",
       "    </tr>\n",
       "    <tr>\n",
       "      <th>303230</th>\n",
       "      <td>24.19</td>\n",
       "      <td>97</td>\n",
       "      <td>21.30</td>\n",
       "      <td>7.25</td>\n",
       "      <td>73.59</td>\n",
       "      <td>91</td>\n",
       "    </tr>\n",
       "    <tr>\n",
       "      <th>303231</th>\n",
       "      <td>23.19</td>\n",
       "      <td>100</td>\n",
       "      <td>0.06</td>\n",
       "      <td>7.28</td>\n",
       "      <td>0.01</td>\n",
       "      <td>670</td>\n",
       "    </tr>\n",
       "  </tbody>\n",
       "</table>\n",
       "<p>295077 rows × 6 columns</p>\n",
       "</div>"
      ],
      "text/plain": [
       "        Temperature(C)  Turbidity(NTU)  Dissolved Oxygen(g/ml)   PH  \\\n",
       "0                23.75              80                   27.74 7.05   \n",
       "1                23.75              80                    4.20 7.09   \n",
       "2                23.75              80                   10.31 7.08   \n",
       "3                23.75              81                    1.20 7.07   \n",
       "4                23.75              80                    2.34 7.09   \n",
       "...                ...             ...                     ...  ...   \n",
       "303227           23.94             100                    5.08 7.26   \n",
       "303228           25.38             100                    5.08 2.01   \n",
       "303229           24.38             100                    3.13 2.71   \n",
       "303230           24.19              97                   21.30 7.25   \n",
       "303231           23.19             100                    0.06 7.28   \n",
       "\n",
       "        Ammonia(g/ml)  Nitrate(g/ml)  \n",
       "0                5.16            114  \n",
       "1                4.53            114  \n",
       "2                5.21            113  \n",
       "3                5.42            100  \n",
       "4                5.46            112  \n",
       "...               ...            ...  \n",
       "303227           0.00            490  \n",
       "303228           0.00           3870  \n",
       "303229           0.00           1563  \n",
       "303230          73.59             91  \n",
       "303231           0.01            670  \n",
       "\n",
       "[295077 rows x 6 columns]"
      ]
     },
     "execution_count": 67,
     "metadata": {},
     "output_type": "execute_result"
    }
   ],
   "source": [
    "X"
   ]
  },
  {
   "cell_type": "markdown",
   "metadata": {},
   "source": [
    "# Creating Train Test split"
   ]
  },
  {
   "cell_type": "code",
   "execution_count": 68,
   "metadata": {},
   "outputs": [],
   "source": [
    "X_train, X_test, y_train, y_test = train_test_split(X, y, test_size=0.33, random_state=42, shuffle=True)"
   ]
  },
  {
   "cell_type": "markdown",
   "metadata": {},
   "source": [
    "# Using Lazy Predictor to identify the best model"
   ]
  },
  {
   "cell_type": "code",
   "execution_count": 57,
   "metadata": {},
   "outputs": [],
   "source": [
    "from lazypredict.Supervised import LazyClassifier\n"
   ]
  },
  {
   "cell_type": "code",
   "execution_count": 69,
   "metadata": {},
   "outputs": [
    {
     "name": "stderr",
     "output_type": "stream",
     "text": [
      "  3%|▎         | 1/29 [00:07<03:24,  7.32s/it]"
     ]
    },
    {
     "name": "stdout",
     "output_type": "stream",
     "text": [
      "ROC AUC couldn't be calculated for AdaBoostClassifier\n",
      "multi_class must be in ('ovo', 'ovr')\n"
     ]
    },
    {
     "name": "stderr",
     "output_type": "stream",
     "text": [
      " 10%|█         | 3/29 [00:11<01:13,  2.84s/it]"
     ]
    },
    {
     "name": "stdout",
     "output_type": "stream",
     "text": [
      "ROC AUC couldn't be calculated for BaggingClassifier\n",
      "multi_class must be in ('ovo', 'ovr')\n",
      "ROC AUC couldn't be calculated for BernoulliNB\n",
      "multi_class must be in ('ovo', 'ovr')\n"
     ]
    },
    {
     "name": "stderr",
     "output_type": "stream",
     "text": [
      " 14%|█▍        | 4/29 [04:32<43:45, 105.01s/it]"
     ]
    },
    {
     "name": "stdout",
     "output_type": "stream",
     "text": [
      "ROC AUC couldn't be calculated for CalibratedClassifierCV\n",
      "multi_class must be in ('ovo', 'ovr')\n",
      "CategoricalNB model failed to execute\n",
      "Negative values in data passed to CategoricalNB (input X)\n"
     ]
    },
    {
     "name": "stderr",
     "output_type": "stream",
     "text": [
      " 21%|██        | 6/29 [04:33<18:58, 49.52s/it] "
     ]
    },
    {
     "name": "stdout",
     "output_type": "stream",
     "text": [
      "ROC AUC couldn't be calculated for DecisionTreeClassifier\n",
      "multi_class must be in ('ovo', 'ovr')\n",
      "ROC AUC couldn't be calculated for DummyClassifier\n",
      "multi_class must be in ('ovo', 'ovr')\n"
     ]
    },
    {
     "name": "stderr",
     "output_type": "stream",
     "text": [
      " 28%|██▊       | 8/29 [04:33<09:53, 28.24s/it]"
     ]
    },
    {
     "name": "stdout",
     "output_type": "stream",
     "text": [
      "ROC AUC couldn't be calculated for ExtraTreeClassifier\n",
      "multi_class must be in ('ovo', 'ovr')\n"
     ]
    },
    {
     "name": "stderr",
     "output_type": "stream",
     "text": [
      " 34%|███▍      | 10/29 [04:44<05:43, 18.06s/it]"
     ]
    },
    {
     "name": "stdout",
     "output_type": "stream",
     "text": [
      "ROC AUC couldn't be calculated for ExtraTreesClassifier\n",
      "multi_class must be in ('ovo', 'ovr')\n",
      "ROC AUC couldn't be calculated for GaussianNB\n",
      "multi_class must be in ('ovo', 'ovr')\n"
     ]
    },
    {
     "name": "stderr",
     "output_type": "stream",
     "text": [
      " 45%|████▍     | 13/29 [05:05<02:51, 10.73s/it]"
     ]
    },
    {
     "name": "stdout",
     "output_type": "stream",
     "text": [
      "ROC AUC couldn't be calculated for KNeighborsClassifier\n",
      "multi_class must be in ('ovo', 'ovr')\n",
      "LabelPropagation model failed to execute\n",
      "Unable to allocate 291. GiB for an array with shape (197701, 197701) and data type float64\n",
      "LabelSpreading model failed to execute\n",
      "Unable to allocate 291. GiB for an array with shape (197701, 197701) and data type float64\n"
     ]
    },
    {
     "name": "stderr",
     "output_type": "stream",
     "text": [
      " 48%|████▊     | 14/29 [05:05<02:03,  8.27s/it]"
     ]
    },
    {
     "name": "stdout",
     "output_type": "stream",
     "text": [
      "ROC AUC couldn't be calculated for LinearDiscriminantAnalysis\n",
      "multi_class must be in ('ovo', 'ovr')\n"
     ]
    },
    {
     "name": "stderr",
     "output_type": "stream",
     "text": [
      " 52%|█████▏    | 15/29 [06:18<05:43, 24.50s/it]"
     ]
    },
    {
     "name": "stdout",
     "output_type": "stream",
     "text": [
      "ROC AUC couldn't be calculated for LinearSVC\n",
      "multi_class must be in ('ovo', 'ovr')\n"
     ]
    },
    {
     "name": "stderr",
     "output_type": "stream",
     "text": [
      " 59%|█████▊    | 17/29 [06:21<02:43, 13.62s/it]"
     ]
    },
    {
     "name": "stdout",
     "output_type": "stream",
     "text": [
      "ROC AUC couldn't be calculated for LogisticRegression\n",
      "multi_class must be in ('ovo', 'ovr')\n",
      "ROC AUC couldn't be calculated for NearestCentroid\n",
      "multi_class must be in ('ovo', 'ovr')\n",
      "NuSVC model failed to execute\n",
      "specified nu is infeasible\n"
     ]
    },
    {
     "name": "stderr",
     "output_type": "stream",
     "text": [
      " 66%|██████▌   | 19/29 [06:21<01:18,  7.85s/it]"
     ]
    },
    {
     "name": "stdout",
     "output_type": "stream",
     "text": [
      "ROC AUC couldn't be calculated for PassiveAggressiveClassifier\n",
      "multi_class must be in ('ovo', 'ovr')\n"
     ]
    },
    {
     "name": "stderr",
     "output_type": "stream",
     "text": [
      " 72%|███████▏  | 21/29 [06:23<00:37,  4.65s/it]"
     ]
    },
    {
     "name": "stdout",
     "output_type": "stream",
     "text": [
      "ROC AUC couldn't be calculated for Perceptron\n",
      "multi_class must be in ('ovo', 'ovr')\n",
      "ROC AUC couldn't be calculated for QuadraticDiscriminantAnalysis\n",
      "multi_class must be in ('ovo', 'ovr')\n"
     ]
    },
    {
     "name": "stderr",
     "output_type": "stream",
     "text": [
      " 79%|███████▉  | 23/29 [06:38<00:32,  5.38s/it]"
     ]
    },
    {
     "name": "stdout",
     "output_type": "stream",
     "text": [
      "ROC AUC couldn't be calculated for RandomForestClassifier\n",
      "multi_class must be in ('ovo', 'ovr')\n",
      "ROC AUC couldn't be calculated for RidgeClassifier\n",
      "multi_class must be in ('ovo', 'ovr')\n"
     ]
    },
    {
     "name": "stderr",
     "output_type": "stream",
     "text": [
      " 83%|████████▎ | 24/29 [06:38<00:19,  3.93s/it]"
     ]
    },
    {
     "name": "stdout",
     "output_type": "stream",
     "text": [
      "ROC AUC couldn't be calculated for RidgeClassifierCV\n",
      "multi_class must be in ('ovo', 'ovr')\n"
     ]
    },
    {
     "name": "stderr",
     "output_type": "stream",
     "text": [
      " 86%|████████▌ | 25/29 [06:39<00:12,  3.08s/it]"
     ]
    },
    {
     "name": "stdout",
     "output_type": "stream",
     "text": [
      "ROC AUC couldn't be calculated for SGDClassifier\n",
      "multi_class must be in ('ovo', 'ovr')\n"
     ]
    },
    {
     "name": "stderr",
     "output_type": "stream",
     "text": [
      " 90%|████████▉ | 26/29 [26:45<17:39, 353.32s/it]"
     ]
    },
    {
     "name": "stdout",
     "output_type": "stream",
     "text": [
      "ROC AUC couldn't be calculated for SVC\n",
      "multi_class must be in ('ovo', 'ovr')\n",
      "StackingClassifier model failed to execute\n",
      "StackingClassifier.__init__() missing 1 required positional argument: 'estimators'\n"
     ]
    },
    {
     "name": "stderr",
     "output_type": "stream",
     "text": [
      " 97%|█████████▋| 28/29 [26:53<03:14, 194.77s/it]"
     ]
    },
    {
     "name": "stdout",
     "output_type": "stream",
     "text": [
      "ROC AUC couldn't be calculated for XGBClassifier\n",
      "multi_class must be in ('ovo', 'ovr')\n"
     ]
    },
    {
     "name": "stderr",
     "output_type": "stream",
     "text": [
      "100%|██████████| 29/29 [26:55<00:00, 55.69s/it] "
     ]
    },
    {
     "name": "stdout",
     "output_type": "stream",
     "text": [
      "ROC AUC couldn't be calculated for LGBMClassifier\n",
      "multi_class must be in ('ovo', 'ovr')\n",
      "                               Accuracy  Balanced Accuracy ROC AUC  F1 Score  \\\n",
      "Model                                                                          \n",
      "LGBMClassifier                     0.99               0.98    None      0.99   \n",
      "XGBClassifier                      0.98               0.97    None      0.98   \n",
      "RandomForestClassifier             0.98               0.95    None      0.98   \n",
      "ExtraTreesClassifier               0.98               0.95    None      0.98   \n",
      "BaggingClassifier                  0.98               0.95    None      0.98   \n",
      "DecisionTreeClassifier             0.97               0.95    None      0.97   \n",
      "ExtraTreeClassifier                0.96               0.93    None      0.96   \n",
      "KNeighborsClassifier               0.96               0.92    None      0.96   \n",
      "AdaBoostClassifier                 0.82               0.73    None      0.83   \n",
      "QuadraticDiscriminantAnalysis      0.58               0.67    None      0.50   \n",
      "SVC                                0.86               0.66    None      0.82   \n",
      "LinearDiscriminantAnalysis         0.71               0.54    None      0.66   \n",
      "RidgeClassifier                    0.70               0.54    None      0.66   \n",
      "RidgeClassifierCV                  0.70               0.54    None      0.66   \n",
      "CalibratedClassifierCV             0.70               0.53    None      0.66   \n",
      "SGDClassifier                      0.69               0.52    None      0.64   \n",
      "LinearSVC                          0.67               0.51    None      0.63   \n",
      "NearestCentroid                    0.44               0.50    None      0.50   \n",
      "LogisticRegression                 0.65               0.49    None      0.61   \n",
      "PassiveAggressiveClassifier        0.60               0.46    None      0.55   \n",
      "BernoulliNB                        0.59               0.45    None      0.55   \n",
      "Perceptron                         0.60               0.45    None      0.53   \n",
      "GaussianNB                         0.49               0.42    None      0.37   \n",
      "DummyClassifier                    0.45               0.33    None      0.28   \n",
      "\n",
      "                               Time Taken  \n",
      "Model                                      \n",
      "LGBMClassifier                       1.65  \n",
      "XGBClassifier                        8.45  \n",
      "RandomForestClassifier              14.84  \n",
      "ExtraTreesClassifier                10.56  \n",
      "BaggingClassifier                    3.49  \n",
      "DecisionTreeClassifier               0.61  \n",
      "ExtraTreeClassifier                  0.19  \n",
      "KNeighborsClassifier                20.81  \n",
      "AdaBoostClassifier                   7.32  \n",
      "QuadraticDiscriminantAnalysis        0.18  \n",
      "SVC                               1205.74  \n",
      "LinearDiscriminantAnalysis           0.26  \n",
      "RidgeClassifier                      0.17  \n",
      "RidgeClassifierCV                    0.23  \n",
      "CalibratedClassifierCV             261.62  \n",
      "SGDClassifier                        0.97  \n",
      "LinearSVC                           72.83  \n",
      "NearestCentroid                      0.12  \n",
      "LogisticRegression                   2.62  \n",
      "PassiveAggressiveClassifier          0.87  \n",
      "BernoulliNB                          0.19  \n",
      "Perceptron                           0.83  \n",
      "GaussianNB                           0.14  \n",
      "DummyClassifier                      0.09  \n"
     ]
    },
    {
     "name": "stderr",
     "output_type": "stream",
     "text": [
      "\n"
     ]
    }
   ],
   "source": [
    "# fitting data in LazyRegressor because\n",
    "# here we are solving Regression use case.\n",
    "clf = LazyClassifier(verbose=0,\n",
    "                     ignore_warnings=False,\n",
    "                     custom_metric=None)\n",
    "  \n",
    "# fitting data in LazyClassifier\n",
    "models, predictions = clf.fit(X_train, X_test,\n",
    "                              y_train, y_test)\n",
    "# lets check which model did better\n",
    "# on Breast Cancer Dataset\n",
    "print(models)"
   ]
  },
  {
   "attachments": {},
   "cell_type": "markdown",
   "metadata": {},
   "source": [
    "# Hence we should go with Light Gradient Boosting Model"
   ]
  },
  {
   "cell_type": "code",
   "execution_count": 70,
   "metadata": {},
   "outputs": [
    {
     "name": "stdout",
     "output_type": "stream",
     "text": [
      "Requirement already satisfied: lightgbm in c:\\users\\udain\\appdata\\local\\programs\\python\\python310\\lib\\site-packages (3.3.3)\n",
      "Requirement already satisfied: scipy in c:\\users\\udain\\appdata\\local\\programs\\python\\python310\\lib\\site-packages (from lightgbm) (1.8.1)\n",
      "Requirement already satisfied: numpy in c:\\users\\udain\\appdata\\local\\programs\\python\\python310\\lib\\site-packages (from lightgbm) (1.24.2)\n",
      "Requirement already satisfied: wheel in c:\\users\\udain\\appdata\\local\\programs\\python\\python310\\lib\\site-packages (from lightgbm) (0.37.1)\n",
      "Requirement already satisfied: scikit-learn!=0.22.0 in c:\\users\\udain\\appdata\\local\\programs\\python\\python310\\lib\\site-packages (from lightgbm) (1.1.1)\n",
      "Requirement already satisfied: joblib>=1.0.0 in c:\\users\\udain\\appdata\\local\\programs\\python\\python310\\lib\\site-packages (from scikit-learn!=0.22.0->lightgbm) (1.2.0)\n",
      "Requirement already satisfied: threadpoolctl>=2.0.0 in c:\\users\\udain\\appdata\\local\\programs\\python\\python310\\lib\\site-packages (from scikit-learn!=0.22.0->lightgbm) (3.1.0)\n"
     ]
    }
   ],
   "source": [
    "!pip install lightgbm\n"
   ]
  },
  {
   "cell_type": "code",
   "execution_count": 71,
   "metadata": {},
   "outputs": [],
   "source": [
    "from lightgbm import LGBMClassifier"
   ]
  },
  {
   "cell_type": "code",
   "execution_count": 72,
   "metadata": {},
   "outputs": [
    {
     "data": {
      "text/html": [
       "<style>#sk-container-id-1 {color: black;background-color: white;}#sk-container-id-1 pre{padding: 0;}#sk-container-id-1 div.sk-toggleable {background-color: white;}#sk-container-id-1 label.sk-toggleable__label {cursor: pointer;display: block;width: 100%;margin-bottom: 0;padding: 0.3em;box-sizing: border-box;text-align: center;}#sk-container-id-1 label.sk-toggleable__label-arrow:before {content: \"▸\";float: left;margin-right: 0.25em;color: #696969;}#sk-container-id-1 label.sk-toggleable__label-arrow:hover:before {color: black;}#sk-container-id-1 div.sk-estimator:hover label.sk-toggleable__label-arrow:before {color: black;}#sk-container-id-1 div.sk-toggleable__content {max-height: 0;max-width: 0;overflow: hidden;text-align: left;background-color: #f0f8ff;}#sk-container-id-1 div.sk-toggleable__content pre {margin: 0.2em;color: black;border-radius: 0.25em;background-color: #f0f8ff;}#sk-container-id-1 input.sk-toggleable__control:checked~div.sk-toggleable__content {max-height: 200px;max-width: 100%;overflow: auto;}#sk-container-id-1 input.sk-toggleable__control:checked~label.sk-toggleable__label-arrow:before {content: \"▾\";}#sk-container-id-1 div.sk-estimator input.sk-toggleable__control:checked~label.sk-toggleable__label {background-color: #d4ebff;}#sk-container-id-1 div.sk-label input.sk-toggleable__control:checked~label.sk-toggleable__label {background-color: #d4ebff;}#sk-container-id-1 input.sk-hidden--visually {border: 0;clip: rect(1px 1px 1px 1px);clip: rect(1px, 1px, 1px, 1px);height: 1px;margin: -1px;overflow: hidden;padding: 0;position: absolute;width: 1px;}#sk-container-id-1 div.sk-estimator {font-family: monospace;background-color: #f0f8ff;border: 1px dotted black;border-radius: 0.25em;box-sizing: border-box;margin-bottom: 0.5em;}#sk-container-id-1 div.sk-estimator:hover {background-color: #d4ebff;}#sk-container-id-1 div.sk-parallel-item::after {content: \"\";width: 100%;border-bottom: 1px solid gray;flex-grow: 1;}#sk-container-id-1 div.sk-label:hover label.sk-toggleable__label {background-color: #d4ebff;}#sk-container-id-1 div.sk-serial::before {content: \"\";position: absolute;border-left: 1px solid gray;box-sizing: border-box;top: 0;bottom: 0;left: 50%;z-index: 0;}#sk-container-id-1 div.sk-serial {display: flex;flex-direction: column;align-items: center;background-color: white;padding-right: 0.2em;padding-left: 0.2em;position: relative;}#sk-container-id-1 div.sk-item {position: relative;z-index: 1;}#sk-container-id-1 div.sk-parallel {display: flex;align-items: stretch;justify-content: center;background-color: white;position: relative;}#sk-container-id-1 div.sk-item::before, #sk-container-id-1 div.sk-parallel-item::before {content: \"\";position: absolute;border-left: 1px solid gray;box-sizing: border-box;top: 0;bottom: 0;left: 50%;z-index: -1;}#sk-container-id-1 div.sk-parallel-item {display: flex;flex-direction: column;z-index: 1;position: relative;background-color: white;}#sk-container-id-1 div.sk-parallel-item:first-child::after {align-self: flex-end;width: 50%;}#sk-container-id-1 div.sk-parallel-item:last-child::after {align-self: flex-start;width: 50%;}#sk-container-id-1 div.sk-parallel-item:only-child::after {width: 0;}#sk-container-id-1 div.sk-dashed-wrapped {border: 1px dashed gray;margin: 0 0.4em 0.5em 0.4em;box-sizing: border-box;padding-bottom: 0.4em;background-color: white;}#sk-container-id-1 div.sk-label label {font-family: monospace;font-weight: bold;display: inline-block;line-height: 1.2em;}#sk-container-id-1 div.sk-label-container {text-align: center;}#sk-container-id-1 div.sk-container {/* jupyter's `normalize.less` sets `[hidden] { display: none; }` but bootstrap.min.css set `[hidden] { display: none !important; }` so we also need the `!important` here to be able to override the default hidden behavior on the sphinx rendered scikit-learn.org. See: https://github.com/scikit-learn/scikit-learn/issues/21755 */display: inline-block !important;position: relative;}#sk-container-id-1 div.sk-text-repr-fallback {display: none;}</style><div id=\"sk-container-id-1\" class=\"sk-top-container\"><div class=\"sk-text-repr-fallback\"><pre>LGBMClassifier()</pre><b>In a Jupyter environment, please rerun this cell to show the HTML representation or trust the notebook. <br />On GitHub, the HTML representation is unable to render, please try loading this page with nbviewer.org.</b></div><div class=\"sk-container\" hidden><div class=\"sk-item\"><div class=\"sk-estimator sk-toggleable\"><input class=\"sk-toggleable__control sk-hidden--visually\" id=\"sk-estimator-id-1\" type=\"checkbox\" checked><label for=\"sk-estimator-id-1\" class=\"sk-toggleable__label sk-toggleable__label-arrow\">LGBMClassifier</label><div class=\"sk-toggleable__content\"><pre>LGBMClassifier()</pre></div></div></div></div></div>"
      ],
      "text/plain": [
       "LGBMClassifier()"
      ]
     },
     "execution_count": 72,
     "metadata": {},
     "output_type": "execute_result"
    }
   ],
   "source": [
    "model = LGBMClassifier()\n",
    "model.fit(X_train, y_train)"
   ]
  },
  {
   "cell_type": "code",
   "execution_count": 74,
   "metadata": {},
   "outputs": [
    {
     "name": "stdout",
     "output_type": "stream",
     "text": [
      "0.9888062767006244\n"
     ]
    }
   ],
   "source": [
    "accuracy = model.score(X_test, y_test)\n",
    "print(accuracy)"
   ]
  },
  {
   "cell_type": "code",
   "execution_count": 75,
   "metadata": {},
   "outputs": [],
   "source": [
    "import pickle"
   ]
  },
  {
   "cell_type": "code",
   "execution_count": 76,
   "metadata": {},
   "outputs": [],
   "source": [
    "pickle.dump(model, open('model_lgbm.pkl', 'wb'))\n"
   ]
  },
  {
   "cell_type": "code",
   "execution_count": null,
   "metadata": {},
   "outputs": [],
   "source": []
  }
 ],
 "metadata": {
  "language_info": {
   "name": "python"
  },
  "orig_nbformat": 4
 },
 "nbformat": 4,
 "nbformat_minor": 2
}

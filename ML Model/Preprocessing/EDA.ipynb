{
 "cells": [
  {
   "cell_type": "code",
   "execution_count": 1,
   "metadata": {},
   "outputs": [],
   "source": [
    "import pandas as pd\n",
    "import numpy as np\n",
    "import tensorflow as tf\n",
    "from sklearn.model_selection import train_test_split\n",
    "import matplotlib.pyplot as plt\n",
    "import seaborn as sns"
   ]
  },
  {
   "cell_type": "code",
   "execution_count": 2,
   "metadata": {},
   "outputs": [],
   "source": [
    "df = pd.read_csv(\"Final_df.csv\")"
   ]
  },
  {
   "cell_type": "code",
   "execution_count": 3,
   "metadata": {},
   "outputs": [
    {
     "data": {
      "text/html": [
       "<div>\n",
       "<style scoped>\n",
       "    .dataframe tbody tr th:only-of-type {\n",
       "        vertical-align: middle;\n",
       "    }\n",
       "\n",
       "    .dataframe tbody tr th {\n",
       "        vertical-align: top;\n",
       "    }\n",
       "\n",
       "    .dataframe thead th {\n",
       "        text-align: right;\n",
       "    }\n",
       "</style>\n",
       "<table border=\"1\" class=\"dataframe\">\n",
       "  <thead>\n",
       "    <tr style=\"text-align: right;\">\n",
       "      <th></th>\n",
       "      <th>Temperature(C)</th>\n",
       "      <th>Turbidity(NTU)</th>\n",
       "      <th>Dissolved Oxygen(g/ml)</th>\n",
       "      <th>PH</th>\n",
       "      <th>Ammonia(g/ml)</th>\n",
       "      <th>Nitrate(g/ml)</th>\n",
       "      <th>Count</th>\n",
       "      <th>Growth_rate</th>\n",
       "      <th>Type_Growth</th>\n",
       "      <th>Growth speed</th>\n",
       "      <th>Final Growth</th>\n",
       "    </tr>\n",
       "  </thead>\n",
       "  <tbody>\n",
       "    <tr>\n",
       "      <th>0</th>\n",
       "      <td>23.75</td>\n",
       "      <td>80</td>\n",
       "      <td>27.736</td>\n",
       "      <td>7.04911</td>\n",
       "      <td>5.15546</td>\n",
       "      <td>114</td>\n",
       "      <td>3174</td>\n",
       "      <td>0.0</td>\n",
       "      <td>Less Growth</td>\n",
       "      <td>Slow Growth</td>\n",
       "      <td>Less and Slow Growth</td>\n",
       "    </tr>\n",
       "    <tr>\n",
       "      <th>1</th>\n",
       "      <td>23.75</td>\n",
       "      <td>80</td>\n",
       "      <td>4.195</td>\n",
       "      <td>7.09450</td>\n",
       "      <td>4.53072</td>\n",
       "      <td>114</td>\n",
       "      <td>3174</td>\n",
       "      <td>0.0</td>\n",
       "      <td>Less Growth</td>\n",
       "      <td>Slow Growth</td>\n",
       "      <td>Less and Slow Growth</td>\n",
       "    </tr>\n",
       "    <tr>\n",
       "      <th>2</th>\n",
       "      <td>23.75</td>\n",
       "      <td>80</td>\n",
       "      <td>10.310</td>\n",
       "      <td>7.07635</td>\n",
       "      <td>5.21473</td>\n",
       "      <td>113</td>\n",
       "      <td>3174</td>\n",
       "      <td>0.0</td>\n",
       "      <td>Less Growth</td>\n",
       "      <td>Slow Growth</td>\n",
       "      <td>Less and Slow Growth</td>\n",
       "    </tr>\n",
       "    <tr>\n",
       "      <th>3</th>\n",
       "      <td>23.75</td>\n",
       "      <td>81</td>\n",
       "      <td>1.196</td>\n",
       "      <td>7.07181</td>\n",
       "      <td>5.41747</td>\n",
       "      <td>100</td>\n",
       "      <td>3174</td>\n",
       "      <td>0.0</td>\n",
       "      <td>Less Growth</td>\n",
       "      <td>Slow Growth</td>\n",
       "      <td>Less and Slow Growth</td>\n",
       "    </tr>\n",
       "    <tr>\n",
       "      <th>4</th>\n",
       "      <td>23.75</td>\n",
       "      <td>80</td>\n",
       "      <td>2.338</td>\n",
       "      <td>7.08996</td>\n",
       "      <td>5.45899</td>\n",
       "      <td>112</td>\n",
       "      <td>3174</td>\n",
       "      <td>0.0</td>\n",
       "      <td>Less Growth</td>\n",
       "      <td>Slow Growth</td>\n",
       "      <td>Less and Slow Growth</td>\n",
       "    </tr>\n",
       "  </tbody>\n",
       "</table>\n",
       "</div>"
      ],
      "text/plain": [
       "   Temperature(C)  Turbidity(NTU)  Dissolved Oxygen(g/ml)       PH  \\\n",
       "0           23.75              80                  27.736  7.04911   \n",
       "1           23.75              80                   4.195  7.09450   \n",
       "2           23.75              80                  10.310  7.07635   \n",
       "3           23.75              81                   1.196  7.07181   \n",
       "4           23.75              80                   2.338  7.08996   \n",
       "\n",
       "   Ammonia(g/ml)  Nitrate(g/ml)  Count  Growth_rate  Type_Growth Growth speed  \\\n",
       "0        5.15546            114   3174          0.0  Less Growth  Slow Growth   \n",
       "1        4.53072            114   3174          0.0  Less Growth  Slow Growth   \n",
       "2        5.21473            113   3174          0.0  Less Growth  Slow Growth   \n",
       "3        5.41747            100   3174          0.0  Less Growth  Slow Growth   \n",
       "4        5.45899            112   3174          0.0  Less Growth  Slow Growth   \n",
       "\n",
       "           Final Growth  \n",
       "0  Less and Slow Growth  \n",
       "1  Less and Slow Growth  \n",
       "2  Less and Slow Growth  \n",
       "3  Less and Slow Growth  \n",
       "4  Less and Slow Growth  "
      ]
     },
     "execution_count": 3,
     "metadata": {},
     "output_type": "execute_result"
    }
   ],
   "source": [
    "df.head()"
   ]
  },
  {
   "cell_type": "code",
   "execution_count": 4,
   "metadata": {},
   "outputs": [
    {
     "data": {
      "text/plain": [
       "array([ 80,  81,  79,  78,  77,  76,  82,  17,  16,  15,  14,  18,  24,\n",
       "        13,  12,  23,  21,  20,  19,  22,  26,  27,  28,  25,  32,  31,\n",
       "        30,  34,  33,  29,  11,  10,  35,  36,  37,  38,  39,  40,  41,\n",
       "        49,  60,  72,  74,  62,  75,  47,  48,  51,  52,  57,  59,  66,\n",
       "        69,  42,  43,  44,  45,  46,  61,  85,  93,  89,  88,  87,  90,\n",
       "        91,  92,  94,  84,  83,  95,  96,  97,  86,  98,  99, 100,  68,\n",
       "        70,  71,  73,  55,  50,  64,  67,   8,  56,  53,  65,  54,  63,\n",
       "        58], dtype=int64)"
      ]
     },
     "execution_count": 4,
     "metadata": {},
     "output_type": "execute_result"
    }
   ],
   "source": [
    "df[\"Turbidity(NTU)\"].unique()"
   ]
  },
  {
   "cell_type": "code",
   "execution_count": 5,
   "metadata": {},
   "outputs": [
    {
     "data": {
      "text/plain": [
       "array([  23.75  ,   23.6875,   23.625 ,   23.5625,   23.5   ,   23.4375,\n",
       "         23.375 ,   23.3125,   23.25  ,   23.1875,   23.875 ,   23.8125,\n",
       "         23.9375,   24.    ,   24.0625,   24.125 ,   24.1875,   24.25  ,\n",
       "         24.375 ,   24.3125,   24.4375,   24.5   ,   24.5625,   24.625 ,\n",
       "         24.75  ,   24.6875,   24.8125,   24.875 ,   24.9375,   25.    ,\n",
       "         25.0625,   25.125 ,   25.1875,   25.25  ,   26.1875,   26.    ,\n",
       "         26.375 ,   26.4375,   26.5   ,   26.5625,   26.3125,   26.25  ,\n",
       "         26.125 ,   26.0625,   25.9375,   25.875 ,   25.8125,   25.75  ,\n",
       "         25.6875,   25.625 ,   25.5625,   25.5   ,   25.4375,   25.375 ,\n",
       "         25.3125,   23.125 ,   23.0625,   23.    ,   22.9375,   22.875 ,\n",
       "         22.8125,   22.75  ,   22.6875,   22.625 ,   22.5625,   22.5   ,\n",
       "         22.4375,   22.375 ,   22.3125, -127.    ,   25.66  ])"
      ]
     },
     "execution_count": 5,
     "metadata": {},
     "output_type": "execute_result"
    }
   ],
   "source": [
    "df[\"Temperature(C)\"].unique()"
   ]
  },
  {
   "cell_type": "code",
   "execution_count": 6,
   "metadata": {},
   "outputs": [
    {
     "data": {
      "text/plain": [
       "<AxesSubplot:>"
      ]
     },
     "execution_count": 6,
     "metadata": {},
     "output_type": "execute_result"
    },
    {
     "data": {
      "image/png": "[encoded data removed]",
      "text/plain": [
       "<Figure size 720x432 with 2 Axes>"
      ]
     },
     "metadata": {
      "needs_background": "light"
     },
     "output_type": "display_data"
    }
   ],
   "source": [
    "fig, ax = plt.subplots(figsize=(10,6))\n",
    "sns.heatmap(df.corr(), center=0, cmap='BrBG', annot=True)"
   ]
  },
  {
   "attachments": {},
   "cell_type": "markdown",
   "metadata": {},
   "source": [
    "Hence We can see that columns are not much correlated"
   ]
  },
  {
   "cell_type": "code",
   "execution_count": 7,
   "metadata": {},
   "outputs": [
    {
     "data": {
      "image/png": "[encoded data removed]",
      "text/plain": [
       "<Figure size 432x288 with 1 Axes>"
      ]
     },
     "metadata": {
      "needs_background": "light"
     },
     "output_type": "display_data"
    }
   ],
   "source": [
    "sns.countplot(x ='Final Growth', data = df)\n",
    " \n",
    "# Show the plot\n",
    "plt.show()"
   ]
  },
  {
   "cell_type": "code",
   "execution_count": 8,
   "metadata": {},
   "outputs": [
    {
     "name": "stdout",
     "output_type": "stream",
     "text": [
      "Collecting imbalanced-learn\n",
      "  Downloading imbalanced_learn-0.10.1-py3-none-any.whl (226 kB)\n",
      "     -------------------------------------- 226.0/226.0 kB 2.0 MB/s eta 0:00:00\n",
      "Requirement already satisfied: scipy>=1.3.2 in c:\\users\\udain\\appdata\\local\\programs\\python\\python310\\lib\\site-packages (from imbalanced-learn) (1.8.1)\n",
      "Requirement already satisfied: threadpoolctl>=2.0.0 in c:\\users\\udain\\appdata\\local\\programs\\python\\python310\\lib\\site-packages (from imbalanced-learn) (3.1.0)\n",
      "Requirement already satisfied: numpy>=1.17.3 in c:\\users\\udain\\appdata\\local\\programs\\python\\python310\\lib\\site-packages (from imbalanced-learn) (1.24.2)\n",
      "Requirement already satisfied: scikit-learn>=1.0.2 in c:\\users\\udain\\appdata\\local\\programs\\python\\python310\\lib\\site-packages (from imbalanced-learn) (1.1.1)\n",
      "Collecting joblib>=1.1.1\n",
      "  Downloading joblib-1.2.0-py3-none-any.whl (297 kB)\n",
      "     -------------------------------------- 298.0/298.0 kB 3.6 MB/s eta 0:00:00\n",
      "Installing collected packages: joblib, imbalanced-learn\n",
      "  Attempting uninstall: joblib\n",
      "    Found existing installation: joblib 1.1.0\n",
      "    Uninstalling joblib-1.1.0:\n",
      "      Successfully uninstalled joblib-1.1.0\n",
      "Successfully installed imbalanced-learn-0.10.1 joblib-1.2.0\n"
     ]
    }
   ],
   "source": [
    "!pip install imbalanced-learn\n"
   ]
  },
  {
   "attachments": {},
   "cell_type": "markdown",
   "metadata": {},
   "source": [
    "# Handling imabalanced dataset by Under Sampling"
   ]
  },
  {
   "cell_type": "code",
   "execution_count": 9,
   "metadata": {},
   "outputs": [],
   "source": [
    "x = df.drop([\"Count\", \"Growth_rate\", \"Type_Growth\",\"Growth speed\", \"Final Growth\"], axis =1)"
   ]
  },
  {
   "cell_type": "code",
   "execution_count": 10,
   "metadata": {},
   "outputs": [],
   "source": [
    "y = df[\"Final Growth\"]"
   ]
  },
  {
   "cell_type": "code",
   "execution_count": 12,
   "metadata": {},
   "outputs": [],
   "source": [
    "from imblearn.under_sampling import RandomUnderSampler"
   ]
  },
  {
   "cell_type": "code",
   "execution_count": 14,
   "metadata": {},
   "outputs": [],
   "source": [
    "\n",
    "\n",
    "rus = RandomUnderSampler(random_state=42, replacement=True)# fit predictor and target variable\n",
    "x_rus, y_rus = rus.fit_resample(x, y)\n",
    "\n"
   ]
  },
  {
   "attachments": {},
   "cell_type": "markdown",
   "metadata": {},
   "source": [
    "# Before Under Sampling"
   ]
  },
  {
   "cell_type": "code",
   "execution_count": 15,
   "metadata": {},
   "outputs": [
    {
     "data": {
      "text/plain": [
       "<AxesSubplot:xlabel='Final Growth', ylabel='count'>"
      ]
     },
     "execution_count": 15,
     "metadata": {},
     "output_type": "execute_result"
    },
    {
     "data": {
      "image/png": "[encoded data removed]",
      "text/plain": [
       "<Figure size 432x288 with 1 Axes>"
      ]
     },
     "metadata": {
      "needs_background": "light"
     },
     "output_type": "display_data"
    }
   ],
   "source": [
    "sns.countplot(x = y)"
   ]
  },
  {
   "attachments": {},
   "cell_type": "markdown",
   "metadata": {},
   "source": [
    "# After Under Sampling"
   ]
  },
  {
   "cell_type": "code",
   "execution_count": 16,
   "metadata": {},
   "outputs": [
    {
     "data": {
      "text/plain": [
       "<AxesSubplot:xlabel='Final Growth', ylabel='count'>"
      ]
     },
     "execution_count": 16,
     "metadata": {},
     "output_type": "execute_result"
    },
    {
     "data": {
      "image/png": "[encoded data removed]",
      "text/plain": [
       "<Figure size 432x288 with 1 Axes>"
      ]
     },
     "metadata": {
      "needs_background": "light"
     },
     "output_type": "display_data"
    }
   ],
   "source": [
    "sns.countplot(x= y_rus)"
   ]
  },
  {
   "cell_type": "code",
   "execution_count": 17,
   "metadata": {},
   "outputs": [
    {
     "data": {
      "text/plain": [
       "18"
      ]
     },
     "execution_count": 17,
     "metadata": {},
     "output_type": "execute_result"
    }
   ],
   "source": [
    "len(y_rus)"
   ]
  },
  {
   "cell_type": "code",
   "execution_count": 18,
   "metadata": {},
   "outputs": [],
   "source": [
    "from imblearn.over_sampling import RandomOverSampler"
   ]
  },
  {
   "cell_type": "code",
   "execution_count": 19,
   "metadata": {},
   "outputs": [],
   "source": [
    "oversample = RandomOverSampler(sampling_strategy='minority')\n",
    "x_over, y_over = oversample.fit_resample(x, y)"
   ]
  },
  {
   "cell_type": "code",
   "execution_count": 20,
   "metadata": {},
   "outputs": [
    {
     "data": {
      "text/plain": [
       "<AxesSubplot:xlabel='Final Growth', ylabel='count'>"
      ]
     },
     "execution_count": 20,
     "metadata": {},
     "output_type": "execute_result"
    },
    {
     "data": {
      "image/png": "[encoded data removed]",
      "text/plain": [
       "<Figure size 432x288 with 1 Axes>"
      ]
     },
     "metadata": {
      "needs_background": "light"
     },
     "output_type": "display_data"
    }
   ],
   "source": [
    "sns.countplot(x= y_over)"
   ]
  },
  {
   "cell_type": "code",
   "execution_count": 21,
   "metadata": {},
   "outputs": [
    {
     "data": {
      "text/plain": [
       "0         Less and Slow Growth\n",
       "1         Less and Slow Growth\n",
       "2         Less and Slow Growth\n",
       "3         Less and Slow Growth\n",
       "4         Less and Slow Growth\n",
       "                  ...         \n",
       "303227    Good and Fast Growth\n",
       "303228    Good and Fast Growth\n",
       "303229    Good and Fast Growth\n",
       "303230    Good and Fast Growth\n",
       "303231    Good and Fast Growth\n",
       "Name: Final Growth, Length: 303232, dtype: object"
      ]
     },
     "execution_count": 21,
     "metadata": {},
     "output_type": "execute_result"
    }
   ],
   "source": [
    "y_over"
   ]
  },
  {
   "cell_type": "code",
   "execution_count": 22,
   "metadata": {},
   "outputs": [
    {
     "data": {
      "text/html": [
       "<div>\n",
       "<style scoped>\n",
       "    .dataframe tbody tr th:only-of-type {\n",
       "        vertical-align: middle;\n",
       "    }\n",
       "\n",
       "    .dataframe tbody tr th {\n",
       "        vertical-align: top;\n",
       "    }\n",
       "\n",
       "    .dataframe thead th {\n",
       "        text-align: right;\n",
       "    }\n",
       "</style>\n",
       "<table border=\"1\" class=\"dataframe\">\n",
       "  <thead>\n",
       "    <tr style=\"text-align: right;\">\n",
       "      <th></th>\n",
       "      <th>Temperature(C)</th>\n",
       "      <th>Turbidity(NTU)</th>\n",
       "      <th>Dissolved Oxygen(g/ml)</th>\n",
       "      <th>PH</th>\n",
       "      <th>Ammonia(g/ml)</th>\n",
       "      <th>Nitrate(g/ml)</th>\n",
       "    </tr>\n",
       "  </thead>\n",
       "  <tbody>\n",
       "    <tr>\n",
       "      <th>0</th>\n",
       "      <td>23.7500</td>\n",
       "      <td>80</td>\n",
       "      <td>27.736</td>\n",
       "      <td>7.04911</td>\n",
       "      <td>5.15546</td>\n",
       "      <td>114</td>\n",
       "    </tr>\n",
       "    <tr>\n",
       "      <th>1</th>\n",
       "      <td>23.7500</td>\n",
       "      <td>80</td>\n",
       "      <td>4.195</td>\n",
       "      <td>7.09450</td>\n",
       "      <td>4.53072</td>\n",
       "      <td>114</td>\n",
       "    </tr>\n",
       "    <tr>\n",
       "      <th>2</th>\n",
       "      <td>23.7500</td>\n",
       "      <td>80</td>\n",
       "      <td>10.310</td>\n",
       "      <td>7.07635</td>\n",
       "      <td>5.21473</td>\n",
       "      <td>113</td>\n",
       "    </tr>\n",
       "    <tr>\n",
       "      <th>3</th>\n",
       "      <td>23.7500</td>\n",
       "      <td>81</td>\n",
       "      <td>1.196</td>\n",
       "      <td>7.07181</td>\n",
       "      <td>5.41747</td>\n",
       "      <td>100</td>\n",
       "    </tr>\n",
       "    <tr>\n",
       "      <th>4</th>\n",
       "      <td>23.7500</td>\n",
       "      <td>80</td>\n",
       "      <td>2.338</td>\n",
       "      <td>7.08996</td>\n",
       "      <td>5.45899</td>\n",
       "      <td>112</td>\n",
       "    </tr>\n",
       "    <tr>\n",
       "      <th>...</th>\n",
       "      <td>...</td>\n",
       "      <td>...</td>\n",
       "      <td>...</td>\n",
       "      <td>...</td>\n",
       "      <td>...</td>\n",
       "      <td>...</td>\n",
       "    </tr>\n",
       "    <tr>\n",
       "      <th>303227</th>\n",
       "      <td>23.9375</td>\n",
       "      <td>100</td>\n",
       "      <td>5.080</td>\n",
       "      <td>7.26246</td>\n",
       "      <td>0.00075</td>\n",
       "      <td>490</td>\n",
       "    </tr>\n",
       "    <tr>\n",
       "      <th>303228</th>\n",
       "      <td>25.3750</td>\n",
       "      <td>100</td>\n",
       "      <td>5.080</td>\n",
       "      <td>2.01484</td>\n",
       "      <td>0.00005</td>\n",
       "      <td>3870</td>\n",
       "    </tr>\n",
       "    <tr>\n",
       "      <th>303229</th>\n",
       "      <td>24.3750</td>\n",
       "      <td>100</td>\n",
       "      <td>3.135</td>\n",
       "      <td>2.70938</td>\n",
       "      <td>0.00004</td>\n",
       "      <td>1563</td>\n",
       "    </tr>\n",
       "    <tr>\n",
       "      <th>303230</th>\n",
       "      <td>24.1875</td>\n",
       "      <td>97</td>\n",
       "      <td>21.299</td>\n",
       "      <td>7.24885</td>\n",
       "      <td>73.59457</td>\n",
       "      <td>91</td>\n",
       "    </tr>\n",
       "    <tr>\n",
       "      <th>303231</th>\n",
       "      <td>23.1875</td>\n",
       "      <td>100</td>\n",
       "      <td>0.062</td>\n",
       "      <td>7.27608</td>\n",
       "      <td>0.00534</td>\n",
       "      <td>670</td>\n",
       "    </tr>\n",
       "  </tbody>\n",
       "</table>\n",
       "<p>303232 rows × 6 columns</p>\n",
       "</div>"
      ],
      "text/plain": [
       "        Temperature(C)  Turbidity(NTU)  Dissolved Oxygen(g/ml)       PH  \\\n",
       "0              23.7500              80                  27.736  7.04911   \n",
       "1              23.7500              80                   4.195  7.09450   \n",
       "2              23.7500              80                  10.310  7.07635   \n",
       "3              23.7500              81                   1.196  7.07181   \n",
       "4              23.7500              80                   2.338  7.08996   \n",
       "...                ...             ...                     ...      ...   \n",
       "303227         23.9375             100                   5.080  7.26246   \n",
       "303228         25.3750             100                   5.080  2.01484   \n",
       "303229         24.3750             100                   3.135  2.70938   \n",
       "303230         24.1875              97                  21.299  7.24885   \n",
       "303231         23.1875             100                   0.062  7.27608   \n",
       "\n",
       "        Ammonia(g/ml)  Nitrate(g/ml)  \n",
       "0             5.15546            114  \n",
       "1             4.53072            114  \n",
       "2             5.21473            113  \n",
       "3             5.41747            100  \n",
       "4             5.45899            112  \n",
       "...               ...            ...  \n",
       "303227        0.00075            490  \n",
       "303228        0.00005           3870  \n",
       "303229        0.00004           1563  \n",
       "303230       73.59457             91  \n",
       "303231        0.00534            670  \n",
       "\n",
       "[303232 rows x 6 columns]"
      ]
     },
     "execution_count": 22,
     "metadata": {},
     "output_type": "execute_result"
    }
   ],
   "source": [
    "x_over"
   ]
  },
  {
   "cell_type": "code",
   "execution_count": 24,
   "metadata": {},
   "outputs": [],
   "source": [
    "balanced_data = pd.concat([x_over, y_over], axis=1)"
   ]
  },
  {
   "cell_type": "code",
   "execution_count": 25,
   "metadata": {},
   "outputs": [
    {
     "data": {
      "text/html": [
       "<div>\n",
       "<style scoped>\n",
       "    .dataframe tbody tr th:only-of-type {\n",
       "        vertical-align: middle;\n",
       "    }\n",
       "\n",
       "    .dataframe tbody tr th {\n",
       "        vertical-align: top;\n",
       "    }\n",
       "\n",
       "    .dataframe thead th {\n",
       "        text-align: right;\n",
       "    }\n",
       "</style>\n",
       "<table border=\"1\" class=\"dataframe\">\n",
       "  <thead>\n",
       "    <tr style=\"text-align: right;\">\n",
       "      <th></th>\n",
       "      <th>Temperature(C)</th>\n",
       "      <th>Turbidity(NTU)</th>\n",
       "      <th>Dissolved Oxygen(g/ml)</th>\n",
       "      <th>PH</th>\n",
       "      <th>Ammonia(g/ml)</th>\n",
       "      <th>Nitrate(g/ml)</th>\n",
       "      <th>Final Growth</th>\n",
       "    </tr>\n",
       "  </thead>\n",
       "  <tbody>\n",
       "    <tr>\n",
       "      <th>0</th>\n",
       "      <td>23.75</td>\n",
       "      <td>80</td>\n",
       "      <td>27.736</td>\n",
       "      <td>7.04911</td>\n",
       "      <td>5.15546</td>\n",
       "      <td>114</td>\n",
       "      <td>Less and Slow Growth</td>\n",
       "    </tr>\n",
       "    <tr>\n",
       "      <th>1</th>\n",
       "      <td>23.75</td>\n",
       "      <td>80</td>\n",
       "      <td>4.195</td>\n",
       "      <td>7.09450</td>\n",
       "      <td>4.53072</td>\n",
       "      <td>114</td>\n",
       "      <td>Less and Slow Growth</td>\n",
       "    </tr>\n",
       "    <tr>\n",
       "      <th>2</th>\n",
       "      <td>23.75</td>\n",
       "      <td>80</td>\n",
       "      <td>10.310</td>\n",
       "      <td>7.07635</td>\n",
       "      <td>5.21473</td>\n",
       "      <td>113</td>\n",
       "      <td>Less and Slow Growth</td>\n",
       "    </tr>\n",
       "    <tr>\n",
       "      <th>3</th>\n",
       "      <td>23.75</td>\n",
       "      <td>81</td>\n",
       "      <td>1.196</td>\n",
       "      <td>7.07181</td>\n",
       "      <td>5.41747</td>\n",
       "      <td>100</td>\n",
       "      <td>Less and Slow Growth</td>\n",
       "    </tr>\n",
       "    <tr>\n",
       "      <th>4</th>\n",
       "      <td>23.75</td>\n",
       "      <td>80</td>\n",
       "      <td>2.338</td>\n",
       "      <td>7.08996</td>\n",
       "      <td>5.45899</td>\n",
       "      <td>112</td>\n",
       "      <td>Less and Slow Growth</td>\n",
       "    </tr>\n",
       "  </tbody>\n",
       "</table>\n",
       "</div>"
      ],
      "text/plain": [
       "   Temperature(C)  Turbidity(NTU)  Dissolved Oxygen(g/ml)       PH  \\\n",
       "0           23.75              80                  27.736  7.04911   \n",
       "1           23.75              80                   4.195  7.09450   \n",
       "2           23.75              80                  10.310  7.07635   \n",
       "3           23.75              81                   1.196  7.07181   \n",
       "4           23.75              80                   2.338  7.08996   \n",
       "\n",
       "   Ammonia(g/ml)  Nitrate(g/ml)          Final Growth  \n",
       "0        5.15546            114  Less and Slow Growth  \n",
       "1        4.53072            114  Less and Slow Growth  \n",
       "2        5.21473            113  Less and Slow Growth  \n",
       "3        5.41747            100  Less and Slow Growth  \n",
       "4        5.45899            112  Less and Slow Growth  "
      ]
     },
     "execution_count": 25,
     "metadata": {},
     "output_type": "execute_result"
    }
   ],
   "source": [
    "balanced_data.head()"
   ]
  },
  {
   "cell_type": "code",
   "execution_count": 26,
   "metadata": {},
   "outputs": [],
   "source": [
    "balanced_data.to_csv(\"Balanced_data.csv\", index=False)"
   ]
  }
 ],
 "metadata": {
  "kernelspec": {
   "display_name": "Python 3",
   "language": "python",
   "name": "python3"
  },
  "language_info": {
   "codemirror_mode": {
    "name": "ipython",
    "version": 3
   },
   "file_extension": ".py",
   "mimetype": "text/x-python",
   "name": "python",
   "nbconvert_exporter": "python",
   "pygments_lexer": "ipython3",
   "version": "3.10.9"
  },
  "orig_nbformat": 4,
  "vscode": {
   "interpreter": {
    "hash": "dd2cc5f8a122bddbd1ec9da99366ffa535cd85facf7b7b81dc79cb5f68f6ab4f"
   }
  }
 },
 "nbformat": 4,
 "nbformat_minor": 2
}
